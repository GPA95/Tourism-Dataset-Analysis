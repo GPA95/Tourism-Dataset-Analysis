{
 "cells": [
  {
   "cell_type": "markdown",
   "id": "f238e56c-d6a3-4226-b30a-a2bca1b81e7c",
   "metadata": {},
   "source": [
    "Data Analytics in Python\n",
    "\n",
    "Assignment\n",
    "\n",
    "By Ammaar Ahmad Khan"
   ]
  },
  {
   "cell_type": "markdown",
   "id": "dd09e614-49fe-4c6c-954b-73005cf4141e",
   "metadata": {},
   "source": [
    "Tourism Dataset"
   ]
  },
  {
   "cell_type": "code",
   "execution_count": 4,
   "id": "78e2d739-ee2f-4088-a454-7617ed3ff261",
   "metadata": {},
   "outputs": [],
   "source": [
    "# Importing our required libraries\n",
    "import numpy as np\n",
    "import pandas as pd\n",
    "import matplotlib.pyplot as plt\n",
    "import seaborn as sns\n",
    "import plotly.express as px"
   ]
  },
  {
   "cell_type": "markdown",
   "id": "f534b741-7d0f-44e3-a7e4-e69244a85062",
   "metadata": {},
   "source": [
    "Data Collection\n",
    "1. Loading our dataset\n",
    "2. Displaying the first few rows"
   ]
  },
  {
   "cell_type": "code",
   "execution_count": 6,
   "id": "5b25a220-f58a-41c2-a7de-c15fa407babd",
   "metadata": {},
   "outputs": [
    {
     "name": "stdout",
     "output_type": "stream",
     "text": [
      "Tourism Dataset:\n",
      "    Year    Country  Number_of_Tourists  Revenue  Average_Spending\n",
      "0   2015  Country A              500000      350               700\n",
      "1   2016  Country A              550000      385               700\n",
      "2   2017  Country A              600000      420               700\n",
      "3   2018  Country A              650000      455               700\n",
      "4   2019  Country A              700000      490               700\n",
      "5   2020  Country A              300000      210               700\n",
      "6   2015  Country B              400000      280               700\n",
      "7   2016  Country B              450000      315               700\n",
      "8   2017  Country B              480000      336               700\n",
      "9   2018  Country B              500000      350               700\n",
      "10  2019  Country B              520000      364               700\n",
      "11  2020  Country B              200000      140               700\n",
      "12  2015  Country C              350000      245               700\n",
      "13  2016  Country C              370000      259               700\n",
      "14  2017  Country C              390000      273               700\n",
      "15  2018  Country C              410000      287               700\n",
      "16  2019  Country C              430000      301               700\n",
      "17  2020  Country C              220000      154               700\n",
      "18  2015  Country D              450000      315               700\n",
      "19  2016  Country D              470000      329               700\n",
      "20  2017  Country D              490000      343               700\n",
      "21  2018  Country D              510000      357               700\n",
      "22  2019  Country D              530000      371               700\n",
      "23  2020  Country D              260000      182               700\n",
      "24  2015  Country E              550000      385               700\n",
      "25  2016  Country E              570000      399               700\n",
      "26  2017  Country E              590000      413               700\n",
      "27  2018  Country E              610000      427               700\n",
      "28  2019  Country E              630000      441               700\n",
      "29  2020  Country E              300000      210               700\n",
      "30  2015  Country F              600000      420               700\n",
      "31  2016  Country F              620000      434               700\n",
      "32  2017  Country F              640000      448               700\n",
      "33  2018  Country F              660000      462               700\n",
      "34  2019  Country F              680000      476               700\n",
      "35  2020  Country F              340000      238               700\n",
      "36  2015  Country G              450000      315               700\n",
      "37  2016  Country G              470000      329               700\n",
      "38  2017  Country G              490000      343               700\n",
      "39  2018  Country G              510000      357               700\n",
      "40  2019  Country G              530000      371               700\n",
      "41  2020  Country G              260000      182               700\n",
      "42  2015  Country H              550000      385               700\n",
      "43  2016  Country H              570000      399               700\n",
      "44  2017  Country H              590000      413               700\n",
      "45  2018  Country H              610000      427               700\n",
      "46  2019  Country H              630000      441               700\n",
      "47  2020  Country H              300000      210               700\n",
      "\n"
     ]
    }
   ],
   "source": [
    "#Loading our dataset\n",
    "data_set=pd.read_csv(\"C:\\\\Users\\\\ammaa\\\\Data Analytics in Python\\\\Assignment\\\\Dataset.csv\")\n",
    "print(\"Tourism Dataset:\")\n",
    "print(data_set)\n",
    "print()"
   ]
  },
  {
   "cell_type": "code",
   "execution_count": 7,
   "id": "f690bfab-3e50-4b41-be83-0dc18c0617ae",
   "metadata": {},
   "outputs": [
    {
     "name": "stdin",
     "output_type": "stream",
     "text": [
      "Enter the number of first few rows to be displayed: 7\n"
     ]
    },
    {
     "name": "stdout",
     "output_type": "stream",
     "text": [
      "\n",
      "Here are the first 7 rows of the dataset.\n",
      "   Year    Country  Number_of_Tourists  Revenue  Average_Spending\n",
      "0  2015  Country A              500000      350               700\n",
      "1  2016  Country A              550000      385               700\n",
      "2  2017  Country A              600000      420               700\n",
      "3  2018  Country A              650000      455               700\n",
      "4  2019  Country A              700000      490               700\n",
      "5  2020  Country A              300000      210               700\n",
      "6  2015  Country B              400000      280               700\n"
     ]
    }
   ],
   "source": [
    "# Displaying the first few rows of the dataset\n",
    "# Here is a program that takes asks the user how many first few rows to be extracted, and then extracts that many rows using head()\n",
    "r = int(input(\"Enter the number of first few rows to be displayed:\"))\n",
    "print()\n",
    "print(\"Here are the first\",r,\"rows of the dataset.\")\n",
    "print(data_set.head(r))"
   ]
  },
  {
   "cell_type": "markdown",
   "id": "bd3e4b32-1e41-4fcc-a593-50b9ec04af1d",
   "metadata": {},
   "source": [
    "Data Cleaning\n",
    "1. Checking for missing values\n",
    "2. Fill missing values or drop them, depending on the analysis needs\n",
    "3. Check for duplicate rows and remove them"
   ]
  },
  {
   "cell_type": "code",
   "execution_count": 20,
   "id": "8b9aee6c-9ef6-476a-b935-f5c10d5560b0",
   "metadata": {},
   "outputs": [
    {
     "name": "stdout",
     "output_type": "stream",
     "text": [
      "Number of missing values in each column:\n",
      "Year                  0\n",
      "Country               0\n",
      "Number_of_Tourists    0\n",
      "Revenue               0\n",
      "Average_Spending      0\n",
      "dtype: int64\n"
     ]
    }
   ],
   "source": [
    "# Checking for missing values\n",
    "print(\"Number of missing values in each column:\")\n",
    "print(data_set.isnull().sum())"
   ]
  },
  {
   "cell_type": "code",
   "execution_count": 24,
   "id": "d489eab5-8212-4ed1-a8df-e2ad93cd8197",
   "metadata": {},
   "outputs": [],
   "source": [
    "# Fill missing values (use fillna() function) or drop them (use dropna() ), depending on the analysis needs.\n",
    "# Check for duplicate rows and remove them (use drop_duplicates() function)\n",
    "\n",
    "#As we do not have any missing values or duplicate rows in our dataset, we do not need these functions in our case."
   ]
  },
  {
   "cell_type": "markdown",
   "id": "3f7204a1-f4d7-4439-9a94-7854a292619a",
   "metadata": {},
   "source": [
    "Data Analysis\n",
    "1. Descriptive statistics.\r",
    "2.  Analyze trends, e.g., number of tourists over tim\n",
    "3. Analyze relationships, e.g., tourists vs. revenue\n",
    "4. Analyze the average spending per tourist over the years for each country.\n",
    "5. Analyzing the total revenue generated by each country over the given period.\n",
    "6. Analyzing the yearly change in the number of tourists for each country. try.\r"
   ]
  },
  {
   "cell_type": "code",
   "execution_count": 28,
   "id": "896cae2d-c01c-4688-9cfc-5733741b5f55",
   "metadata": {},
   "outputs": [
    {
     "name": "stdout",
     "output_type": "stream",
     "text": [
      "General Statistics:\n",
      "              Year  Number_of_Tourists     Revenue  Average_Spending\n",
      "count    48.000000           48.000000   48.000000              48.0\n",
      "mean   2017.500000       489166.666667  342.416667             700.0\n",
      "std       1.725898       128524.082243   89.966858               0.0\n",
      "min    2015.000000       200000.000000  140.000000             700.0\n",
      "25%    2016.000000       407500.000000  285.250000             700.0\n",
      "50%    2017.500000       505000.000000  353.500000             700.0\n",
      "75%    2019.000000       592500.000000  414.750000             700.0\n",
      "max    2020.000000       700000.000000  490.000000             700.0\n"
     ]
    }
   ],
   "source": [
    "#Descriptive statistics.\n",
    "print(\"General Statistics:\")\n",
    "print(data_set.describe())"
   ]
  },
  {
   "cell_type": "code",
   "execution_count": 30,
   "id": "7e23c8af-b5a9-4996-bd0d-430873d2c78f",
   "metadata": {},
   "outputs": [
    {
     "name": "stdout",
     "output_type": "stream",
     "text": [
      "Year    Tourists\n",
      "2015    3850000\n",
      "2016    4070000\n",
      "2017    4270000\n",
      "2018    4460000\n",
      "2019    4650000\n",
      "2020    2180000\n",
      "dtype: int64\n"
     ]
    }
   ],
   "source": [
    "#Analyze trends, e.g., number of tourists over time\n",
    "\n",
    "#Step 1: Dictionary to store year and number of tourists\n",
    "tourists_by_year = {}\n",
    "#Step 2: Iterate through each row in the dataset\n",
    "for index, row in data_set.iterrows():\n",
    "    year = row['Year']\n",
    "    tourists = row['Number_of_Tourists']\n",
    "    \n",
    "    #Step 3: Add tourists to the corresponding year in the dictionary (2015-2020)\n",
    "    if year in tourists_by_year:\n",
    "        tourists_by_year[year] += tourists\n",
    "    else:\n",
    "        tourists_by_year[year] = tourists\n",
    "\n",
    "#Step 4: Convert the dictionary to a Pandas Series\n",
    "year_vs_tourists = pd.Series(tourists_by_year)\n",
    "\n",
    "#Step 5: Print the Series\n",
    "print(\"Year    Tourists\")\n",
    "print(year_vs_tourists)"
   ]
  },
  {
   "cell_type": "code",
   "execution_count": 32,
   "id": "afc68208-ff26-4c12-9bbd-7fd8de8b81b9",
   "metadata": {},
   "outputs": [
    {
     "name": "stdout",
     "output_type": "stream",
     "text": [
      "Correlation coefficient (using corr() function): 1.00\n"
     ]
    }
   ],
   "source": [
    "# Analyze relationships, e.g., tourists vs. revenue\n",
    "# We will perform correlation analysis to analyze this relationship\n",
    "#using corr() function\n",
    "correlation = data_set['Number_of_Tourists'].corr(data_set['Revenue'])\n",
    "print(f\"Correlation coefficient (using corr() function): {correlation:.2f}\")"
   ]
  },
  {
   "cell_type": "markdown",
   "id": "315b2bd8-dd28-464b-bb59-1847f8baa072",
   "metadata": {},
   "source": [
    "This indicates that the revenue generated is directly proportional to the number of tourists. As the number of tourists increases, revenue follows the same pattern."
   ]
  },
  {
   "cell_type": "code",
   "execution_count": 35,
   "id": "dbeb9057-5ee4-4877-85aa-f7dbaf9d6d26",
   "metadata": {},
   "outputs": [
    {
     "name": "stdout",
     "output_type": "stream",
     "text": [
      "     Country  Average Spending\n",
      "0  Country A          0.001273\n",
      "1  Country B          0.001647\n",
      "2  Country C          0.001935\n",
      "3  Country D          0.001550\n",
      "4  Country E          0.001292\n",
      "5  Country F          0.001186\n",
      "6  Country G          0.001550\n",
      "7  Country H          0.001292\n"
     ]
    }
   ],
   "source": [
    "#Analyze the average spending per tourist over the years for each country.\n",
    "# Initialize dictionaries to store total spending and total tourists for each country\n",
    "total_spending = {}\n",
    "total_tourists = {}\n",
    "\n",
    "# Iterate through each row in the dataset\n",
    "for index, row in data_set.iterrows():\n",
    "    country = row['Country']\n",
    "    tourists = row['Number_of_Tourists']\n",
    "    spending = row['Average_Spending']\n",
    "    \n",
    "    # Update total spending and total tourists for the country\n",
    "    total_spending[country] = total_spending.get(country, 0) + spending\n",
    "    total_tourists[country] = total_tourists.get(country, 0) + tourists\n",
    "\n",
    "# Calculate average spending per tourist for each country\n",
    "average_spending_per_tourist = {}\n",
    "for country in total_spending:\n",
    "    average_spending_per_tourist[country] = total_spending[country] / total_tourists[country]\n",
    "\n",
    "# Create a DataFrame ASTC (Average Spending per Tourist by Country) from the dictionaries\n",
    "ASTC = pd.DataFrame({\n",
    "    'Country': list(average_spending_per_tourist.keys()),\n",
    "    'Average Spending': list(average_spending_per_tourist.values())\n",
    "})\n",
    "\n",
    "# Print the result\n",
    "print(ASTC)"
   ]
  },
  {
   "cell_type": "code",
   "execution_count": 37,
   "id": "97f3a7c1-a07e-45d4-a5a5-661a968d181f",
   "metadata": {},
   "outputs": [
    {
     "name": "stdout",
     "output_type": "stream",
     "text": [
      "Country    Revenue\n",
      "Country A    2310\n",
      "Country B    1785\n",
      "Country C    1519\n",
      "Country D    1897\n",
      "Country E    2275\n",
      "Country F    2478\n",
      "Country G    1897\n",
      "Country H    2275\n",
      "dtype: int64\n"
     ]
    }
   ],
   "source": [
    "#Analyzing the total revenue generated by each country over the given period\n",
    "\n",
    "#Step 1: Dictionary to store country and revenue\n",
    "country_revenue = {}\n",
    "#Step 2: Iterate through each row in the dataset\n",
    "for index, row in data_set.iterrows():\n",
    "    country = row['Country']\n",
    "    revenue = row['Revenue']\n",
    "    \n",
    "    #Step 3: Add tourists to the corresponding year in the dictionary (2015-2020)\n",
    "    if country in country_revenue:\n",
    "        country_revenue[country] += revenue\n",
    "    else:\n",
    "        country_revenue[country] = revenue\n",
    "\n",
    "#Step 4: Convert the dictionary to a Pandas Series\n",
    "country_vs_revenue = pd.Series(country_revenue)\n",
    "\n",
    "#Step 5: Print the Series\n",
    "print(\"Country    Revenue\")\n",
    "print(country_vs_revenue)"
   ]
  },
  {
   "cell_type": "code",
   "execution_count": 39,
   "id": "aed8cfab-b99c-41fa-9bb3-0cb44bf6ecae",
   "metadata": {},
   "outputs": [
    {
     "name": "stdout",
     "output_type": "stream",
     "text": [
      "             2015    2016    2017    2018    2019    2020\n",
      "Country A  500000  550000  600000  650000  700000  300000\n",
      "Country B  400000  450000  480000  500000  520000  200000\n",
      "Country C  350000  370000  390000  410000  430000  220000\n",
      "Country D  450000  470000  490000  510000  530000  260000\n",
      "Country E  550000  570000  590000  610000  630000  300000\n",
      "Country F  600000  620000  640000  660000  680000  340000\n",
      "Country G  450000  470000  490000  510000  530000  260000\n",
      "Country H  550000  570000  590000  610000  630000  300000\n"
     ]
    }
   ],
   "source": [
    "# Analyzing the yearly change in the number of tourists for each country.\n",
    "\n",
    "grouped_df = data_set.groupby(['Country', 'Year'])['Number_of_Tourists'].sum()\n",
    "\n",
    "# Convert the grouped data back to a DataFrame\n",
    "new_df = grouped_df.reset_index()\n",
    "\n",
    "# Pivot the DataFrame\n",
    "pivot_df = new_df.pivot(index='Country', columns='Year', values='Number_of_Tourists')\n",
    "\n",
    "pivot_df.columns.name = None\n",
    "pivot_df.index.name = None\n",
    "\n",
    "# Print the new DataFrame (without 'Year' and 'Country' labels)\n",
    "print(pivot_df)"
   ]
  },
  {
   "cell_type": "markdown",
   "id": "fe217471-c977-43f9-9a17-2d2d8b657423",
   "metadata": {},
   "source": [
    "Data Visualization\n",
    "1. Plot the number of tourists over time\n",
    "2. Plot revenue distribution"
   ]
  },
  {
   "cell_type": "code",
   "execution_count": 42,
   "id": "89921f6f-b1ed-4283-8ead-528942d8707b",
   "metadata": {
    "scrolled": true
   },
   "outputs": [
    {
     "data": {
      "image/png": "[encoded data removed]",
      "text/plain": [
       "<Figure size 640x480 with 1 Axes>"
      ]
     },
     "metadata": {},
     "output_type": "display_data"
    }
   ],
   "source": [
    "#Plot the number of tourists over time\n",
    "plt.bar(year_vs_tourists.index,year_vs_tourists.values)\n",
    "plt.xlabel('Year')\n",
    "plt.ylabel('Number of Tourists')\n",
    "plt.title('Number of Tourists over the Years')\n",
    "plt.grid(True)\n",
    "plt.show()"
   ]
  },
  {
   "cell_type": "code",
   "execution_count": 44,
   "id": "981803f9-be56-4b28-b167-84338f40418c",
   "metadata": {},
   "outputs": [
    {
     "name": "stderr",
     "output_type": "stream",
     "text": [
      "C:\\Users\\ammaa\\Apps\\Anaconda\\Lib\\site-packages\\seaborn\\_oldcore.py:1119: FutureWarning: use_inf_as_na option is deprecated and will be removed in a future version. Convert inf values to NaN before operating instead.\n",
      "  with pd.option_context('mode.use_inf_as_na', True):\n"
     ]
    },
    {
     "data": {
      "image/png": "[encoded data removed]",
      "text/plain": [
       "<Figure size 500x500 with 1 Axes>"
      ]
     },
     "metadata": {},
     "output_type": "display_data"
    }
   ],
   "source": [
    "# Plot revenue distribution\n",
    "sns.displot(data_set['Revenue'], kde=True, bins=15, color='lightblue')\n",
    "plt.title('Revenue Distribution with Density Curve')\n",
    "plt.xlabel('Revenue')\n",
    "plt.ylabel('Density')\n",
    "plt.show()"
   ]
  },
  {
   "cell_type": "markdown",
   "id": "fcde11ba-cd49-4562-938a-b00f5d4ef785",
   "metadata": {},
   "source": [
    "Conclusions"
   ]
  },
  {
   "cell_type": "markdown",
   "id": "4f48c100-061a-4d10-be2e-2496d4b4117f",
   "metadata": {},
   "source": [
    "1. Trends in Tourists Over Time:\n",
    "The number of tourists has generally increased from 2015 to 2020.\n",
    "However, there’s a significant drop in 2020, which could be due to external factors (e.g., the pandemic).\n",
    "2. Tourists vs. Revenue:\n",
    "The correlation coefficient of 1.00 indicates a perfect positive linear relationship between the number of tourists and revenue.\n",
    "As the number of tourists increases, revenue follows the same pattern.\n",
    "3. Average Spending per Tourist:\n",
    "Country C has the highest average spending per tourist, followed by Country B.\n",
    "Country F has the lowest average spending per tourist.\n",
    "These insights can help tailor marketing strategies for each country.\n",
    "4. Total Revenue by Country:\n",
    "Country F generates the highest revenue, followed by Country E.\n",
    "Country C has the lowest revenue.\n",
    "5. Yearly Change in Tourists:\n",
    "Most countries show steady growth in tourists over the years.\n",
    "Country F and Country A have the highest yearly increases.\n",
    "Country B and Country G have the lowest yearly increases."
   ]
  }
 ],
 "metadata": {
  "kernelspec": {
   "display_name": "Python 3 (ipykernel)",
   "language": "python",
   "name": "python3"
  },
  "language_info": {
   "codemirror_mode": {
    "name": "ipython",
    "version": 3
   },
   "file_extension": ".py",
   "mimetype": "text/x-python",
   "name": "python",
   "nbconvert_exporter": "python",
   "pygments_lexer": "ipython3",
   "version": "3.11.7"
  }
 },
 "nbformat": 4,
 "nbformat_minor": 5
}
